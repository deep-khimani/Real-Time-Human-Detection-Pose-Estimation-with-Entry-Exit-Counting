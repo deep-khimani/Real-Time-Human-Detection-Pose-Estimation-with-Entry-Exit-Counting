{
 "cells": [
  {
   "cell_type": "code",
   "execution_count": 1,
   "id": "f6c19167",
   "metadata": {},
   "outputs": [],
   "source": [
    "import cv2\n",
    "import mediapipe as mp\n"
   ]
  },
  {
   "cell_type": "code",
   "execution_count": 4,
   "id": "31cbc6af",
   "metadata": {},
   "outputs": [],
   "source": [
    "mp_pose = mp.solutions.pose\n",
    "mp_hands = mp.solutions.hands\n",
    "\n",
    "def human_and_hand_detector():\n",
    "    cap = cv2.VideoCapture(0)\n",
    "    with mp_pose.Pose(static_image_mode=False, min_detection_confidence=0.5) as pose_tracker, \\\n",
    "         mp_hands.Hands(static_image_mode=False, max_num_hands=2, min_detection_confidence=0.5) as hand_tracker:\n",
    "\n",
    "        while cap.isOpened():\n",
    "            ret, frame = cap.read()\n",
    "            if not ret:\n",
    "                break\n",
    "            frame = cv2.flip(frame, 1)\n",
    "            rgb_frame = cv2.cvtColor(frame, cv2.COLOR_BGR2RGB)\n",
    "\n",
    "            pose_results = pose_tracker.process(rgb_frame)\n",
    "            if pose_results.pose_landmarks:\n",
    "                mp.solutions.drawing_utils.draw_landmarks(\n",
    "                    frame, pose_results.pose_landmarks, mp_pose.POSE_CONNECTIONS\n",
    "                )\n",
    "                xs = [lm.x for lm in pose_results.pose_landmarks.landmark]\n",
    "                ys = [lm.y for lm in pose_results.pose_landmarks.landmark]\n",
    "                h, w, _ = frame.shape\n",
    "                x_min, x_max = int(min(xs) * w), int(max(xs) * w)\n",
    "                y_min, y_max = int(min(ys) * h), int(max(ys) * h)\n",
    "                cv2.rectangle(frame, (x_min, y_min), (x_max, y_max), (0,255,0), 2)\n",
    "\n",
    "            hand_results = hand_tracker.process(rgb_frame)\n",
    "            if hand_results.multi_hand_landmarks:\n",
    "                for hand_landmarks in hand_results.multi_hand_landmarks:\n",
    "                    mp.solutions.drawing_utils.draw_landmarks(\n",
    "                        frame, hand_landmarks, mp_hands.HAND_CONNECTIONS,\n",
    "                        mp.solutions.drawing_utils.DrawingSpec(color=(0,0,255), thickness=2, circle_radius=3),\n",
    "                        mp.solutions.drawing_utils.DrawingSpec(color=(255,255,0), thickness=2))\n",
    "            \n",
    "            cv2.imshow(\"Person & Hand Pose Estimation\", frame)\n",
    "            if cv2.waitKey(1) & 0xFF == ord('q'):\n",
    "                break\n",
    "\n",
    "    cap.release()\n",
    "    cv2.destroyAllWindows()\n"
   ]
  },
  {
   "cell_type": "code",
   "execution_count": null,
   "id": "1f0e50e8",
   "metadata": {},
   "outputs": [],
   "source": [
    "if __name__ == \"__main__\":\n",
    "    human_and_hand_detector()"
   ]
  }
 ],
 "metadata": {
  "kernelspec": {
   "display_name": "Python 3",
   "language": "python",
   "name": "python3"
  },
  "language_info": {
   "codemirror_mode": {
    "name": "ipython",
    "version": 3
   },
   "file_extension": ".py",
   "mimetype": "text/x-python",
   "name": "python",
   "nbconvert_exporter": "python",
   "pygments_lexer": "ipython3",
   "version": "3.11.1"
  }
 },
 "nbformat": 4,
 "nbformat_minor": 5
}
